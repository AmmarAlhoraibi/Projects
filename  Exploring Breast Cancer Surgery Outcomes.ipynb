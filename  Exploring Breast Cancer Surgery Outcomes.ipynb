{
 "cells": [
  {
   "cell_type": "markdown",
   "id": "a1c70c92",
   "metadata": {},
   "source": [
    "# Classification Machine Learning\n",
    "## Ammar Alhoraibi"
   ]
  },
  {
   "cell_type": "markdown",
   "id": "89256761",
   "metadata": {},
   "source": [
    "### Introduction\n",
    "- The dataset contains cases from a study that was conducted between 1958 and 1970 on the survival of patients who had undergone surgery for breast cancer which contains 4 variables.\n",
    "- First, the age of the patient at the time of operation. Second, the patient’s year of operation (year -1900,). Then, the number of positive axillary nodes was detected. Last, survival status: 1 = the patient survived 5 years or longer, 2 = the patient died within 5 years"
   ]
  },
  {
   "cell_type": "markdown",
   "id": "a6605611",
   "metadata": {},
   "source": [
    "### I.Frame the problem and look at the big picture\n",
    "- In this lab, we were asked to develop a model to predict the survival status. First of all, we need to frame the problem and understand the situation to choose which model would be used. In this case, the variables that we are working on are numerical and class attributes. \n"
   ]
  },
  {
   "cell_type": "code",
   "execution_count": 1,
   "id": "bc0330fb",
   "metadata": {},
   "outputs": [],
   "source": [
    "#Importing libraries\n",
    "import pandas as pd\n",
    "import numpy as np\n",
    "import matplotlib.pyplot as plt\n"
   ]
  },
  {
   "cell_type": "markdown",
   "id": "dd549db5",
   "metadata": {},
   "source": [
    "# Loading dataset"
   ]
  },
  {
   "cell_type": "code",
   "execution_count": 2,
   "id": "b04380c9",
   "metadata": {},
   "outputs": [
    {
     "data": {
      "text/html": [
       "<div>\n",
       "<style scoped>\n",
       "    .dataframe tbody tr th:only-of-type {\n",
       "        vertical-align: middle;\n",
       "    }\n",
       "\n",
       "    .dataframe tbody tr th {\n",
       "        vertical-align: top;\n",
       "    }\n",
       "\n",
       "    .dataframe thead th {\n",
       "        text-align: right;\n",
       "    }\n",
       "</style>\n",
       "<table border=\"1\" class=\"dataframe\">\n",
       "  <thead>\n",
       "    <tr style=\"text-align: right;\">\n",
       "      <th></th>\n",
       "      <th>30</th>\n",
       "      <th>64</th>\n",
       "      <th>1</th>\n",
       "      <th>1.1</th>\n",
       "    </tr>\n",
       "  </thead>\n",
       "  <tbody>\n",
       "    <tr>\n",
       "      <th>0</th>\n",
       "      <td>30.0</td>\n",
       "      <td>62.0</td>\n",
       "      <td>3.0</td>\n",
       "      <td>1</td>\n",
       "    </tr>\n",
       "    <tr>\n",
       "      <th>1</th>\n",
       "      <td>30.0</td>\n",
       "      <td>65.0</td>\n",
       "      <td>0.0</td>\n",
       "      <td>1</td>\n",
       "    </tr>\n",
       "    <tr>\n",
       "      <th>2</th>\n",
       "      <td>31.0</td>\n",
       "      <td>59.0</td>\n",
       "      <td>2.0</td>\n",
       "      <td>1</td>\n",
       "    </tr>\n",
       "    <tr>\n",
       "      <th>3</th>\n",
       "      <td>31.0</td>\n",
       "      <td>65.0</td>\n",
       "      <td>4.0</td>\n",
       "      <td>1</td>\n",
       "    </tr>\n",
       "    <tr>\n",
       "      <th>4</th>\n",
       "      <td>33.0</td>\n",
       "      <td>58.0</td>\n",
       "      <td>10.0</td>\n",
       "      <td>1</td>\n",
       "    </tr>\n",
       "  </tbody>\n",
       "</table>\n",
       "</div>"
      ],
      "text/plain": [
       "     30    64     1  1.1\n",
       "0  30.0  62.0   3.0    1\n",
       "1  30.0  65.0   0.0    1\n",
       "2  31.0  59.0   2.0    1\n",
       "3  31.0  65.0   4.0    1\n",
       "4  33.0  58.0  10.0    1"
      ]
     },
     "execution_count": 2,
     "metadata": {},
     "output_type": "execute_result"
    }
   ],
   "source": [
    "# path of data \n",
    "path = 'a1_data1.csv'\n",
    "df = pd.read_csv(path)\n",
    "df.head()"
   ]
  },
  {
   "cell_type": "markdown",
   "id": "d4e086f4",
   "metadata": {},
   "source": [
    "- Downloading the CSV file on the machine and opening it in Jupyter notebooks using the Pandas library. Displaying the head of the dataset to have a look at the variables and first 5 rows. Also, name the columns as they were unnamed."
   ]
  },
  {
   "cell_type": "code",
   "execution_count": 3,
   "id": "814cb7e3",
   "metadata": {},
   "outputs": [
    {
     "data": {
      "text/html": [
       "<div>\n",
       "<style scoped>\n",
       "    .dataframe tbody tr th:only-of-type {\n",
       "        vertical-align: middle;\n",
       "    }\n",
       "\n",
       "    .dataframe tbody tr th {\n",
       "        vertical-align: top;\n",
       "    }\n",
       "\n",
       "    .dataframe thead th {\n",
       "        text-align: right;\n",
       "    }\n",
       "</style>\n",
       "<table border=\"1\" class=\"dataframe\">\n",
       "  <thead>\n",
       "    <tr style=\"text-align: right;\">\n",
       "      <th></th>\n",
       "      <th>Age</th>\n",
       "      <th>year_of_operation</th>\n",
       "      <th>num_nodes_detected</th>\n",
       "      <th>survival_status</th>\n",
       "    </tr>\n",
       "  </thead>\n",
       "  <tbody>\n",
       "    <tr>\n",
       "      <th>0</th>\n",
       "      <td>30.0</td>\n",
       "      <td>62.0</td>\n",
       "      <td>3.0</td>\n",
       "      <td>1</td>\n",
       "    </tr>\n",
       "    <tr>\n",
       "      <th>1</th>\n",
       "      <td>30.0</td>\n",
       "      <td>65.0</td>\n",
       "      <td>0.0</td>\n",
       "      <td>1</td>\n",
       "    </tr>\n",
       "    <tr>\n",
       "      <th>2</th>\n",
       "      <td>31.0</td>\n",
       "      <td>59.0</td>\n",
       "      <td>2.0</td>\n",
       "      <td>1</td>\n",
       "    </tr>\n",
       "    <tr>\n",
       "      <th>3</th>\n",
       "      <td>31.0</td>\n",
       "      <td>65.0</td>\n",
       "      <td>4.0</td>\n",
       "      <td>1</td>\n",
       "    </tr>\n",
       "    <tr>\n",
       "      <th>4</th>\n",
       "      <td>33.0</td>\n",
       "      <td>58.0</td>\n",
       "      <td>10.0</td>\n",
       "      <td>1</td>\n",
       "    </tr>\n",
       "  </tbody>\n",
       "</table>\n",
       "</div>"
      ],
      "text/plain": [
       "    Age  year_of_operation  num_nodes_detected  survival_status\n",
       "0  30.0               62.0                 3.0                1\n",
       "1  30.0               65.0                 0.0                1\n",
       "2  31.0               59.0                 2.0                1\n",
       "3  31.0               65.0                 4.0                1\n",
       "4  33.0               58.0                10.0                1"
      ]
     },
     "execution_count": 3,
     "metadata": {},
     "output_type": "execute_result"
    }
   ],
   "source": [
    "df.columns = ['Age', 'year_of_operation', 'num_nodes_detected', 'survival_status']\n",
    "df.head()"
   ]
  },
  {
   "cell_type": "code",
   "execution_count": 4,
   "id": "80cf555c",
   "metadata": {
    "scrolled": true
   },
   "outputs": [
    {
     "name": "stdout",
     "output_type": "stream",
     "text": [
      "<class 'pandas.core.frame.DataFrame'>\n",
      "RangeIndex: 305 entries, 0 to 304\n",
      "Data columns (total 4 columns):\n",
      " #   Column              Non-Null Count  Dtype  \n",
      "---  ------              --------------  -----  \n",
      " 0   Age                 303 non-null    float64\n",
      " 1   year_of_operation   304 non-null    float64\n",
      " 2   num_nodes_detected  303 non-null    float64\n",
      " 3   survival_status     305 non-null    int64  \n",
      "dtypes: float64(3), int64(1)\n",
      "memory usage: 9.7 KB\n"
     ]
    }
   ],
   "source": [
    "df.info()"
   ]
  },
  {
   "cell_type": "markdown",
   "id": "2a831404",
   "metadata": {},
   "source": [
    "- The function displays information of the dataset. Showing that we have 4 coulmns , 305 rows, as well as the data type of each column."
   ]
  },
  {
   "cell_type": "code",
   "execution_count": 59,
   "id": "85a83ff6",
   "metadata": {},
   "outputs": [
    {
     "data": {
      "text/html": [
       "<div>\n",
       "<style scoped>\n",
       "    .dataframe tbody tr th:only-of-type {\n",
       "        vertical-align: middle;\n",
       "    }\n",
       "\n",
       "    .dataframe tbody tr th {\n",
       "        vertical-align: top;\n",
       "    }\n",
       "\n",
       "    .dataframe thead th {\n",
       "        text-align: right;\n",
       "    }\n",
       "</style>\n",
       "<table border=\"1\" class=\"dataframe\">\n",
       "  <thead>\n",
       "    <tr style=\"text-align: right;\">\n",
       "      <th></th>\n",
       "      <th>Age</th>\n",
       "      <th>year_of_operation</th>\n",
       "      <th>num_nodes_detected</th>\n",
       "      <th>survival_status</th>\n",
       "    </tr>\n",
       "  </thead>\n",
       "  <tbody>\n",
       "    <tr>\n",
       "      <th>count</th>\n",
       "      <td>305.000000</td>\n",
       "      <td>305.000000</td>\n",
       "      <td>305.000000</td>\n",
       "      <td>305.000000</td>\n",
       "    </tr>\n",
       "    <tr>\n",
       "      <th>mean</th>\n",
       "      <td>52.629508</td>\n",
       "      <td>62.836066</td>\n",
       "      <td>4.055738</td>\n",
       "      <td>1.265574</td>\n",
       "    </tr>\n",
       "    <tr>\n",
       "      <th>std</th>\n",
       "      <td>10.668315</td>\n",
       "      <td>3.249394</td>\n",
       "      <td>7.194674</td>\n",
       "      <td>0.442364</td>\n",
       "    </tr>\n",
       "    <tr>\n",
       "      <th>min</th>\n",
       "      <td>30.000000</td>\n",
       "      <td>58.000000</td>\n",
       "      <td>0.000000</td>\n",
       "      <td>1.000000</td>\n",
       "    </tr>\n",
       "    <tr>\n",
       "      <th>25%</th>\n",
       "      <td>44.000000</td>\n",
       "      <td>60.000000</td>\n",
       "      <td>0.000000</td>\n",
       "      <td>1.000000</td>\n",
       "    </tr>\n",
       "    <tr>\n",
       "      <th>50%</th>\n",
       "      <td>52.000000</td>\n",
       "      <td>63.000000</td>\n",
       "      <td>1.000000</td>\n",
       "      <td>1.000000</td>\n",
       "    </tr>\n",
       "    <tr>\n",
       "      <th>75%</th>\n",
       "      <td>61.000000</td>\n",
       "      <td>65.000000</td>\n",
       "      <td>4.000000</td>\n",
       "      <td>2.000000</td>\n",
       "    </tr>\n",
       "    <tr>\n",
       "      <th>max</th>\n",
       "      <td>83.000000</td>\n",
       "      <td>69.000000</td>\n",
       "      <td>52.000000</td>\n",
       "      <td>2.000000</td>\n",
       "    </tr>\n",
       "  </tbody>\n",
       "</table>\n",
       "</div>"
      ],
      "text/plain": [
       "              Age  year_of_operation  num_nodes_detected  survival_status\n",
       "count  305.000000         305.000000          305.000000       305.000000\n",
       "mean    52.629508          62.836066            4.055738         1.265574\n",
       "std     10.668315           3.249394            7.194674         0.442364\n",
       "min     30.000000          58.000000            0.000000         1.000000\n",
       "25%     44.000000          60.000000            0.000000         1.000000\n",
       "50%     52.000000          63.000000            1.000000         1.000000\n",
       "75%     61.000000          65.000000            4.000000         2.000000\n",
       "max     83.000000          69.000000           52.000000         2.000000"
      ]
     },
     "execution_count": 59,
     "metadata": {},
     "output_type": "execute_result"
    }
   ],
   "source": [
    "df.describe()"
   ]
  },
  {
   "cell_type": "markdown",
   "id": "b6dd6c06",
   "metadata": {},
   "source": [
    "- The functions generates descriptive statistics thats summarizethe centeral tendency and many."
   ]
  },
  {
   "cell_type": "code",
   "execution_count": 5,
   "id": "6757d833",
   "metadata": {
    "scrolled": true
   },
   "outputs": [
    {
     "data": {
      "text/plain": [
       "Age                   2\n",
       "year_of_operation     1\n",
       "num_nodes_detected    2\n",
       "survival_status       0\n",
       "dtype: int64"
      ]
     },
     "execution_count": 5,
     "metadata": {},
     "output_type": "execute_result"
    }
   ],
   "source": [
    "df.isna().sum()"
   ]
  },
  {
   "cell_type": "markdown",
   "id": "a5d2890d",
   "metadata": {},
   "source": [
    "- The finction checks if the dataset contains null values "
   ]
  },
  {
   "cell_type": "code",
   "execution_count": 251,
   "id": "bcc73bd2",
   "metadata": {
    "scrolled": true
   },
   "outputs": [
    {
     "data": {
      "text/html": [
       "<div>\n",
       "<style scoped>\n",
       "    .dataframe tbody tr th:only-of-type {\n",
       "        vertical-align: middle;\n",
       "    }\n",
       "\n",
       "    .dataframe tbody tr th {\n",
       "        vertical-align: top;\n",
       "    }\n",
       "\n",
       "    .dataframe thead th {\n",
       "        text-align: right;\n",
       "    }\n",
       "</style>\n",
       "<table border=\"1\" class=\"dataframe\">\n",
       "  <thead>\n",
       "    <tr style=\"text-align: right;\">\n",
       "      <th></th>\n",
       "      <th>Age</th>\n",
       "      <th>year_of_operation</th>\n",
       "      <th>num_nodes_detected</th>\n",
       "      <th>survival_status</th>\n",
       "    </tr>\n",
       "  </thead>\n",
       "  <tbody>\n",
       "    <tr>\n",
       "      <th>0</th>\n",
       "      <td>30</td>\n",
       "      <td>62</td>\n",
       "      <td>3</td>\n",
       "      <td>1</td>\n",
       "    </tr>\n",
       "    <tr>\n",
       "      <th>1</th>\n",
       "      <td>30</td>\n",
       "      <td>65</td>\n",
       "      <td>0</td>\n",
       "      <td>1</td>\n",
       "    </tr>\n",
       "    <tr>\n",
       "      <th>2</th>\n",
       "      <td>31</td>\n",
       "      <td>59</td>\n",
       "      <td>2</td>\n",
       "      <td>1</td>\n",
       "    </tr>\n",
       "    <tr>\n",
       "      <th>3</th>\n",
       "      <td>31</td>\n",
       "      <td>65</td>\n",
       "      <td>4</td>\n",
       "      <td>1</td>\n",
       "    </tr>\n",
       "    <tr>\n",
       "      <th>4</th>\n",
       "      <td>33</td>\n",
       "      <td>58</td>\n",
       "      <td>10</td>\n",
       "      <td>1</td>\n",
       "    </tr>\n",
       "    <tr>\n",
       "      <th>5</th>\n",
       "      <td>33</td>\n",
       "      <td>60</td>\n",
       "      <td>0</td>\n",
       "      <td>1</td>\n",
       "    </tr>\n",
       "    <tr>\n",
       "      <th>6</th>\n",
       "      <td>34</td>\n",
       "      <td>59</td>\n",
       "      <td>0</td>\n",
       "      <td>2</td>\n",
       "    </tr>\n",
       "    <tr>\n",
       "      <th>7</th>\n",
       "      <td>34</td>\n",
       "      <td>62</td>\n",
       "      <td>9</td>\n",
       "      <td>2</td>\n",
       "    </tr>\n",
       "    <tr>\n",
       "      <th>8</th>\n",
       "      <td>34</td>\n",
       "      <td>58</td>\n",
       "      <td>30</td>\n",
       "      <td>1</td>\n",
       "    </tr>\n",
       "    <tr>\n",
       "      <th>9</th>\n",
       "      <td>34</td>\n",
       "      <td>60</td>\n",
       "      <td>1</td>\n",
       "      <td>1</td>\n",
       "    </tr>\n",
       "  </tbody>\n",
       "</table>\n",
       "</div>"
      ],
      "text/plain": [
       "   Age  year_of_operation  num_nodes_detected  survival_status\n",
       "0   30                 62                   3                1\n",
       "1   30                 65                   0                1\n",
       "2   31                 59                   2                1\n",
       "3   31                 65                   4                1\n",
       "4   33                 58                  10                1\n",
       "5   33                 60                   0                1\n",
       "6   34                 59                   0                2\n",
       "7   34                 62                   9                2\n",
       "8   34                 58                  30                1\n",
       "9   34                 60                   1                1"
      ]
     },
     "execution_count": 251,
     "metadata": {},
     "output_type": "execute_result"
    }
   ],
   "source": [
    "df['Age'] = df['Age'].fillna(df['Age'].mean())\n",
    "\n",
    "df['year_of_operation'] = df['year_of_operation'].fillna(df['year_of_operation'].mean())\n",
    "\n",
    "df['num_nodes_detected'] = df['num_nodes_detected'].fillna(df['num_nodes_detected'].mean())\n",
    "\n",
    "\n",
    "df.head(10)"
   ]
  },
  {
   "cell_type": "markdown",
   "id": "449f08b5",
   "metadata": {},
   "source": [
    "- Here we replace the null vallues with the mean value of each cloumn"
   ]
  },
  {
   "cell_type": "code",
   "execution_count": 7,
   "id": "7965197a",
   "metadata": {},
   "outputs": [
    {
     "data": {
      "text/html": [
       "<div>\n",
       "<style scoped>\n",
       "    .dataframe tbody tr th:only-of-type {\n",
       "        vertical-align: middle;\n",
       "    }\n",
       "\n",
       "    .dataframe tbody tr th {\n",
       "        vertical-align: top;\n",
       "    }\n",
       "\n",
       "    .dataframe thead th {\n",
       "        text-align: right;\n",
       "    }\n",
       "</style>\n",
       "<table border=\"1\" class=\"dataframe\">\n",
       "  <thead>\n",
       "    <tr style=\"text-align: right;\">\n",
       "      <th></th>\n",
       "      <th>Age</th>\n",
       "      <th>year_of_operation</th>\n",
       "      <th>num_nodes_detected</th>\n",
       "      <th>survival_status</th>\n",
       "    </tr>\n",
       "  </thead>\n",
       "  <tbody>\n",
       "    <tr>\n",
       "      <th>0</th>\n",
       "      <td>30</td>\n",
       "      <td>62</td>\n",
       "      <td>3</td>\n",
       "      <td>1</td>\n",
       "    </tr>\n",
       "    <tr>\n",
       "      <th>1</th>\n",
       "      <td>30</td>\n",
       "      <td>65</td>\n",
       "      <td>0</td>\n",
       "      <td>1</td>\n",
       "    </tr>\n",
       "    <tr>\n",
       "      <th>2</th>\n",
       "      <td>31</td>\n",
       "      <td>59</td>\n",
       "      <td>2</td>\n",
       "      <td>1</td>\n",
       "    </tr>\n",
       "  </tbody>\n",
       "</table>\n",
       "</div>"
      ],
      "text/plain": [
       "   Age  year_of_operation  num_nodes_detected  survival_status\n",
       "0   30                 62                   3                1\n",
       "1   30                 65                   0                1\n",
       "2   31                 59                   2                1"
      ]
     },
     "execution_count": 7,
     "metadata": {},
     "output_type": "execute_result"
    }
   ],
   "source": [
    "df['Age'] = df['Age'].astype('int')\n",
    "df['year_of_operation'] = df['year_of_operation'].astype('int')\n",
    "df['num_nodes_detected'] = df['num_nodes_detected'].astype('int')\n",
    "\n",
    "df.head(3)"
   ]
  },
  {
   "cell_type": "markdown",
   "id": "b2b0e01f",
   "metadata": {},
   "source": [
    "- Changing the data type of the numerical values from float64 to int64 to remove the unnecessary fractions"
   ]
  },
  {
   "cell_type": "code",
   "execution_count": 8,
   "id": "dc07e6be",
   "metadata": {},
   "outputs": [
    {
     "data": {
      "text/plain": [
       "array([[<AxesSubplot:xlabel='Age', ylabel='Age'>,\n",
       "        <AxesSubplot:xlabel='year_of_operation', ylabel='Age'>,\n",
       "        <AxesSubplot:xlabel='num_nodes_detected', ylabel='Age'>,\n",
       "        <AxesSubplot:xlabel='survival_status', ylabel='Age'>],\n",
       "       [<AxesSubplot:xlabel='Age', ylabel='year_of_operation'>,\n",
       "        <AxesSubplot:xlabel='year_of_operation', ylabel='year_of_operation'>,\n",
       "        <AxesSubplot:xlabel='num_nodes_detected', ylabel='year_of_operation'>,\n",
       "        <AxesSubplot:xlabel='survival_status', ylabel='year_of_operation'>],\n",
       "       [<AxesSubplot:xlabel='Age', ylabel='num_nodes_detected'>,\n",
       "        <AxesSubplot:xlabel='year_of_operation', ylabel='num_nodes_detected'>,\n",
       "        <AxesSubplot:xlabel='num_nodes_detected', ylabel='num_nodes_detected'>,\n",
       "        <AxesSubplot:xlabel='survival_status', ylabel='num_nodes_detected'>],\n",
       "       [<AxesSubplot:xlabel='Age', ylabel='survival_status'>,\n",
       "        <AxesSubplot:xlabel='year_of_operation', ylabel='survival_status'>,\n",
       "        <AxesSubplot:xlabel='num_nodes_detected', ylabel='survival_status'>,\n",
       "        <AxesSubplot:xlabel='survival_status', ylabel='survival_status'>]],\n",
       "      dtype=object)"
      ]
     },
     "execution_count": 8,
     "metadata": {},
     "output_type": "execute_result"
    },
    {
     "data": {
      "image/png": "[encoded data removed]",
      "text/plain": [
       "<Figure size 864x576 with 16 Axes>"
      ]
     },
     "metadata": {
      "needs_background": "light"
     },
     "output_type": "display_data"
    }
   ],
   "source": [
    "from pandas.plotting import scatter_matrix\n",
    "attributes=['Age', 'year_of_operation', 'num_nodes_detected', 'survival_status']\n",
    "scatter_matrix(df[attributes], figsize=(12,8))\n"
   ]
  },
  {
   "cell_type": "code",
   "execution_count": 9,
   "id": "e6501a82",
   "metadata": {
    "scrolled": true
   },
   "outputs": [
    {
     "data": {
      "text/html": [
       "<div>\n",
       "<style scoped>\n",
       "    .dataframe tbody tr th:only-of-type {\n",
       "        vertical-align: middle;\n",
       "    }\n",
       "\n",
       "    .dataframe tbody tr th {\n",
       "        vertical-align: top;\n",
       "    }\n",
       "\n",
       "    .dataframe thead th {\n",
       "        text-align: right;\n",
       "    }\n",
       "</style>\n",
       "<table border=\"1\" class=\"dataframe\">\n",
       "  <thead>\n",
       "    <tr style=\"text-align: right;\">\n",
       "      <th></th>\n",
       "      <th>Age</th>\n",
       "      <th>year_of_operation</th>\n",
       "      <th>num_nodes_detected</th>\n",
       "      <th>survival_status</th>\n",
       "    </tr>\n",
       "  </thead>\n",
       "  <tbody>\n",
       "    <tr>\n",
       "      <th>Age</th>\n",
       "      <td>1.000000</td>\n",
       "      <td>0.100915</td>\n",
       "      <td>-0.073615</td>\n",
       "      <td>0.059254</td>\n",
       "    </tr>\n",
       "    <tr>\n",
       "      <th>year_of_operation</th>\n",
       "      <td>0.100915</td>\n",
       "      <td>1.000000</td>\n",
       "      <td>-0.007065</td>\n",
       "      <td>-0.010805</td>\n",
       "    </tr>\n",
       "    <tr>\n",
       "      <th>num_nodes_detected</th>\n",
       "      <td>-0.073615</td>\n",
       "      <td>-0.007065</td>\n",
       "      <td>1.000000</td>\n",
       "      <td>0.284730</td>\n",
       "    </tr>\n",
       "    <tr>\n",
       "      <th>survival_status</th>\n",
       "      <td>0.059254</td>\n",
       "      <td>-0.010805</td>\n",
       "      <td>0.284730</td>\n",
       "      <td>1.000000</td>\n",
       "    </tr>\n",
       "  </tbody>\n",
       "</table>\n",
       "</div>"
      ],
      "text/plain": [
       "                         Age  year_of_operation  num_nodes_detected  \\\n",
       "Age                 1.000000           0.100915           -0.073615   \n",
       "year_of_operation   0.100915           1.000000           -0.007065   \n",
       "num_nodes_detected -0.073615          -0.007065            1.000000   \n",
       "survival_status     0.059254          -0.010805            0.284730   \n",
       "\n",
       "                    survival_status  \n",
       "Age                        0.059254  \n",
       "year_of_operation         -0.010805  \n",
       "num_nodes_detected         0.284730  \n",
       "survival_status            1.000000  "
      ]
     },
     "execution_count": 9,
     "metadata": {},
     "output_type": "execute_result"
    }
   ],
   "source": [
    "corr_matrix = df.corr()\n",
    "corr_matrix"
   ]
  },
  {
   "cell_type": "markdown",
   "id": "1c82c071",
   "metadata": {},
   "source": [
    "- The correlation matrix shows that the correlation between the variables there is no linear relation between the attributes and survival status as can be seen it is closer to 0 than 1."
   ]
  },
  {
   "cell_type": "code",
   "execution_count": 10,
   "id": "7bb4fba1",
   "metadata": {},
   "outputs": [
    {
     "data": {
      "text/plain": [
       "survival_status       1.000000\n",
       "num_nodes_detected    0.284730\n",
       "Age                   0.059254\n",
       "year_of_operation    -0.010805\n",
       "Name: survival_status, dtype: float64"
      ]
     },
     "execution_count": 10,
     "metadata": {},
     "output_type": "execute_result"
    }
   ],
   "source": [
    "corr_matrix['survival_status'].sort_values(ascending=False)"
   ]
  },
  {
   "cell_type": "code",
   "execution_count": 11,
   "id": "b411351c",
   "metadata": {},
   "outputs": [
    {
     "data": {
      "text/plain": [
       "<AxesSubplot:xlabel='num_nodes_detected', ylabel='survival_status'>"
      ]
     },
     "execution_count": 11,
     "metadata": {},
     "output_type": "execute_result"
    },
    {
     "data": {
      "image/png": "[encoded data removed]",
      "text/plain": [
       "<Figure size 432x288 with 1 Axes>"
      ]
     },
     "metadata": {
      "needs_background": "light"
     },
     "output_type": "display_data"
    }
   ],
   "source": [
    "df.plot(kind='scatter', x='num_nodes_detected', y='survival_status')"
   ]
  },
  {
   "cell_type": "markdown",
   "id": "a6b2903b",
   "metadata": {},
   "source": [
    "- The graph shows the variance of the Number of Nodes Detected VS Survival Status"
   ]
  },
  {
   "cell_type": "code",
   "execution_count": 12,
   "id": "5ac12403",
   "metadata": {},
   "outputs": [
    {
     "data": {
      "text/plain": [
       "<AxesSubplot:xlabel='Age', ylabel='survival_status'>"
      ]
     },
     "execution_count": 12,
     "metadata": {},
     "output_type": "execute_result"
    },
    {
     "data": {
      "image/png": "[encoded data removed]",
      "text/plain": [
       "<Figure size 432x288 with 1 Axes>"
      ]
     },
     "metadata": {
      "needs_background": "light"
     },
     "output_type": "display_data"
    }
   ],
   "source": [
    "df.plot(kind='scatter', x='Age', y='survival_status')"
   ]
  },
  {
   "cell_type": "markdown",
   "id": "1c41c249",
   "metadata": {},
   "source": [
    "- The graph shows the variance of the Number of Nodes Detected VS Age"
   ]
  },
  {
   "cell_type": "markdown",
   "id": "07cf1297",
   "metadata": {},
   "source": [
    "# Prepare the data to make it fit in the machine learining algorithms¶"
   ]
  },
  {
   "cell_type": "markdown",
   "id": "77b13b25",
   "metadata": {},
   "source": [
    "- Split the dataset into training and test sets"
   ]
  },
  {
   "cell_type": "code",
   "execution_count": 14,
   "id": "ff08d0fb",
   "metadata": {},
   "outputs": [],
   "source": [
    "attributes1 = ['num_nodes_detected','Age', 'year_of_operation']\n",
    "X = df.loc[:, attributes1]\n",
    "Y = df.loc[:, ['survival_status']]"
   ]
  },
  {
   "cell_type": "code",
   "execution_count": 15,
   "id": "4c81a02c",
   "metadata": {},
   "outputs": [
    {
     "data": {
      "text/html": [
       "<div>\n",
       "<style scoped>\n",
       "    .dataframe tbody tr th:only-of-type {\n",
       "        vertical-align: middle;\n",
       "    }\n",
       "\n",
       "    .dataframe tbody tr th {\n",
       "        vertical-align: top;\n",
       "    }\n",
       "\n",
       "    .dataframe thead th {\n",
       "        text-align: right;\n",
       "    }\n",
       "</style>\n",
       "<table border=\"1\" class=\"dataframe\">\n",
       "  <thead>\n",
       "    <tr style=\"text-align: right;\">\n",
       "      <th></th>\n",
       "      <th>num_nodes_detected</th>\n",
       "      <th>Age</th>\n",
       "      <th>year_of_operation</th>\n",
       "    </tr>\n",
       "  </thead>\n",
       "  <tbody>\n",
       "    <tr>\n",
       "      <th>0</th>\n",
       "      <td>3</td>\n",
       "      <td>30</td>\n",
       "      <td>62</td>\n",
       "    </tr>\n",
       "    <tr>\n",
       "      <th>1</th>\n",
       "      <td>0</td>\n",
       "      <td>30</td>\n",
       "      <td>65</td>\n",
       "    </tr>\n",
       "    <tr>\n",
       "      <th>2</th>\n",
       "      <td>2</td>\n",
       "      <td>31</td>\n",
       "      <td>59</td>\n",
       "    </tr>\n",
       "  </tbody>\n",
       "</table>\n",
       "</div>"
      ],
      "text/plain": [
       "   num_nodes_detected  Age  year_of_operation\n",
       "0                   3   30                 62\n",
       "1                   0   30                 65\n",
       "2                   2   31                 59"
      ]
     },
     "execution_count": 15,
     "metadata": {},
     "output_type": "execute_result"
    }
   ],
   "source": [
    "X.head(3)"
   ]
  },
  {
   "cell_type": "code",
   "execution_count": 16,
   "id": "41de184f",
   "metadata": {
    "scrolled": true
   },
   "outputs": [
    {
     "data": {
      "text/html": [
       "<div>\n",
       "<style scoped>\n",
       "    .dataframe tbody tr th:only-of-type {\n",
       "        vertical-align: middle;\n",
       "    }\n",
       "\n",
       "    .dataframe tbody tr th {\n",
       "        vertical-align: top;\n",
       "    }\n",
       "\n",
       "    .dataframe thead th {\n",
       "        text-align: right;\n",
       "    }\n",
       "</style>\n",
       "<table border=\"1\" class=\"dataframe\">\n",
       "  <thead>\n",
       "    <tr style=\"text-align: right;\">\n",
       "      <th></th>\n",
       "      <th>survival_status</th>\n",
       "    </tr>\n",
       "  </thead>\n",
       "  <tbody>\n",
       "    <tr>\n",
       "      <th>0</th>\n",
       "      <td>1</td>\n",
       "    </tr>\n",
       "    <tr>\n",
       "      <th>1</th>\n",
       "      <td>1</td>\n",
       "    </tr>\n",
       "    <tr>\n",
       "      <th>2</th>\n",
       "      <td>1</td>\n",
       "    </tr>\n",
       "  </tbody>\n",
       "</table>\n",
       "</div>"
      ],
      "text/plain": [
       "   survival_status\n",
       "0                1\n",
       "1                1\n",
       "2                1"
      ]
     },
     "execution_count": 16,
     "metadata": {},
     "output_type": "execute_result"
    }
   ],
   "source": [
    "Y.head(3)"
   ]
  },
  {
   "cell_type": "code",
   "execution_count": 207,
   "id": "a45daac2",
   "metadata": {},
   "outputs": [],
   "source": [
    "from sklearn.model_selection import train_test_split\n",
    "X_train, X_test, Y_train, Y_test = train_test_split(X, Y, random_state=50, train_size = .8)"
   ]
  },
  {
   "cell_type": "code",
   "execution_count": 208,
   "id": "8837f3a1",
   "metadata": {},
   "outputs": [],
   "source": [
    "#reshaping the data\n",
    "import numpy as np\n",
    "X_train_arr = np.array(X_train)\n",
    "Y_train_arr = np.array(Y_train)"
   ]
  },
  {
   "cell_type": "markdown",
   "id": "5bb55b89",
   "metadata": {},
   "source": [
    "- The First step to prepare the data is to Create variables for the dependent column and assign them to x and the independent to y so we can use them separately.\n",
    "- Then, from sklearn we import the train_test_split to create the x and y training sets and other x and y testing sets. \n",
    "- The NumPy library is used here to convert the series to an array.\n"
   ]
  },
  {
   "cell_type": "markdown",
   "id": "a2e50f0e",
   "metadata": {},
   "source": [
    "# Stochastic Gradient Descent"
   ]
  },
  {
   "cell_type": "code",
   "execution_count": 209,
   "id": "87a12e4b",
   "metadata": {},
   "outputs": [
    {
     "data": {
      "text/plain": [
       "SGDClassifier()"
      ]
     },
     "execution_count": 209,
     "metadata": {},
     "output_type": "execute_result"
    }
   ],
   "source": [
    "from sklearn.linear_model import SGDClassifier\n",
    "sgd_clf = SGDClassifier()\n",
    "sgd_clf.fit(X_train_arr, Y_train_arr.ravel())"
   ]
  },
  {
   "cell_type": "code",
   "execution_count": 210,
   "id": "8904eb4d",
   "metadata": {},
   "outputs": [
    {
     "data": {
      "text/plain": [
       "array([1, 1, 1, 1, 1, 1, 1, 1, 1, 1, 1, 1, 1, 1, 1, 1, 1, 1, 1, 1, 1, 1,\n",
       "       1, 1, 1, 1, 1, 1, 1, 1, 1, 1, 1, 1, 1, 1, 1, 1, 1, 1, 1, 1, 1, 1,\n",
       "       1, 1, 1, 1, 2, 2, 1, 1, 1, 1, 1, 1, 1, 1, 2, 1, 1], dtype=int64)"
      ]
     },
     "execution_count": 210,
     "metadata": {},
     "output_type": "execute_result"
    }
   ],
   "source": [
    "y_pred = sgd_clf.predict(X_test) \n",
    "y_pred"
   ]
  },
  {
   "cell_type": "markdown",
   "id": "789f6dba",
   "metadata": {},
   "source": [
    "### Evaluation using Metrics "
   ]
  },
  {
   "cell_type": "code",
   "execution_count": 217,
   "id": "9fa0f9c5",
   "metadata": {
    "scrolled": true
   },
   "outputs": [
    {
     "name": "stdout",
     "output_type": "stream",
     "text": [
      "Accuracy: 0.7049180327868853\n",
      "Precision: 0.7241379310344828\n",
      "Recall: 0.9545454545454546\n"
     ]
    }
   ],
   "source": [
    "from sklearn import metrics \n",
    "from sklearn.metrics import accuracy_score, precision_score, recall_score\n",
    "\n",
    "from sklearn import metrics\n",
    "print(\"Accuracy:\",metrics.accuracy_score(Y_test, y_pred))\n",
    "print(\"Precision:\",metrics.precision_score(Y_test, y_pred))\n",
    "print(\"Recall:\",metrics.recall_score(Y_test, y_pred))"
   ]
  },
  {
   "cell_type": "markdown",
   "id": "e3e2f9aa",
   "metadata": {},
   "source": [
    "- The First step to prepare the data is to Create variables for the dependent column and assign them to x and the independent to y so we can use them separately.\n",
    "- Then, from sklearn we import the train_test_split to create the x and y training sets and other x and y testing sets. \n",
    "- The NumPy library is used here to convert the series to an array.\n"
   ]
  },
  {
   "cell_type": "markdown",
   "id": "83518057",
   "metadata": {},
   "source": [
    "### Evaluation using cross-validation\n"
   ]
  },
  {
   "cell_type": "code",
   "execution_count": 184,
   "id": "2e385b8c",
   "metadata": {},
   "outputs": [
    {
     "data": {
      "text/plain": [
       "array([0.75609756, 0.7654321 , 0.58024691])"
      ]
     },
     "execution_count": 184,
     "metadata": {},
     "output_type": "execute_result"
    }
   ],
   "source": [
    "from sklearn.model_selection import cross_val_score\n",
    "scores = cross_val_score(sgd_clf, X_train_arr, \n",
    "              Y_train_arr.ravel(), cv=3, scoring=\"accuracy\")\n",
    "scores  "
   ]
  },
  {
   "cell_type": "markdown",
   "id": "5abcbf47",
   "metadata": {},
   "source": [
    "### Evaluation using Confusion Matrix"
   ]
  },
  {
   "cell_type": "code",
   "execution_count": 268,
   "id": "1b647b94",
   "metadata": {
    "scrolled": false
   },
   "outputs": [
    {
     "data": {
      "text/plain": [
       "array([1, 1, 1, 1, 1, 1, 1, 1, 1, 1, 1, 1, 1, 1, 1, 1, 1, 1, 1, 1, 1, 1,\n",
       "       1, 1, 1, 1, 1, 1, 1, 1, 1, 1, 1, 1, 1, 1, 1, 1, 1, 1, 1, 1, 1, 1,\n",
       "       1, 1, 1, 1, 1, 1, 1, 1, 1, 1, 1, 1, 1, 1, 1, 1, 1, 1, 1, 1, 1, 1,\n",
       "       1, 1, 1, 1, 1, 1, 1, 1, 1, 1, 1, 1, 1, 1, 1, 1, 1, 1, 1, 1, 1, 1,\n",
       "       1, 1, 1, 1, 1, 2, 1, 1, 1, 1, 1, 1, 1, 1, 1, 1, 1, 2, 1, 2, 1, 1,\n",
       "       1, 1, 1, 1, 1, 1, 2, 1, 2, 1, 1, 1, 2, 1, 1, 1, 2, 1, 1, 1, 1, 1,\n",
       "       1, 1, 1, 1, 1, 1, 2, 1, 1, 1, 1, 1, 1, 1, 1, 2, 1, 1, 2, 1, 1, 1,\n",
       "       1, 1, 1, 1, 1, 1, 1, 1, 1, 1, 1, 1, 1, 1, 1, 1, 1, 1, 1, 1, 1, 1,\n",
       "       1, 1, 1, 1, 1, 1, 1, 1, 1, 1, 1, 1, 1, 1, 1, 1, 1, 1, 1, 1, 1, 1,\n",
       "       1, 1, 1, 1, 1, 1, 1, 1, 1, 1, 1, 1, 1, 1, 1, 1, 1, 1, 1, 1, 1, 1,\n",
       "       1, 1, 1, 1, 1, 1, 1, 1, 1, 1, 1, 1, 1, 1, 1, 1, 1, 1, 1, 1, 1, 1,\n",
       "       1, 1], dtype=int64)"
      ]
     },
     "execution_count": 268,
     "metadata": {},
     "output_type": "execute_result"
    }
   ],
   "source": [
    "# get predictions for each instance in training set\n",
    "from sklearn.model_selection import cross_val_predict\n",
    "y_train_pred0 = cross_val_predict(sgd_clf, X_train_arr, Y_train_arr.ravel(),cv=3)\n",
    "y_train_pred0"
   ]
  },
  {
   "cell_type": "code",
   "execution_count": 270,
   "id": "e8fa8e70",
   "metadata": {
    "scrolled": true
   },
   "outputs": [
    {
     "data": {
      "text/plain": [
       "array([[176,   4],\n",
       "       [ 58,   6]], dtype=int64)"
      ]
     },
     "execution_count": 270,
     "metadata": {},
     "output_type": "execute_result"
    }
   ],
   "source": [
    "from sklearn.metrics import confusion_matrix\n",
    "confusion_matrix(Y_train_arr.ravel(), y_train_pred0)"
   ]
  },
  {
   "cell_type": "markdown",
   "id": "032afcab",
   "metadata": {},
   "source": [
    "### Precision and Recall"
   ]
  },
  {
   "cell_type": "code",
   "execution_count": 271,
   "id": "938b5bef",
   "metadata": {
    "scrolled": true
   },
   "outputs": [
    {
     "name": "stdout",
     "output_type": "stream",
     "text": [
      "0.7521367521367521\n",
      "0.9777777777777777\n"
     ]
    }
   ],
   "source": [
    "print(precision_score(Y_train_arr.ravel(), y_train_pred0))\n",
    "print(recall_score(Y_train_arr.ravel(), y_train_pred0))"
   ]
  },
  {
   "cell_type": "code",
   "execution_count": 272,
   "id": "e6c56eef",
   "metadata": {},
   "outputs": [
    {
     "data": {
      "text/plain": [
       "0.8502415458937197"
      ]
     },
     "execution_count": 272,
     "metadata": {},
     "output_type": "execute_result"
    }
   ],
   "source": [
    "from sklearn.metrics import f1_score\n",
    "f1_score(Y_train_arr.ravel(), y_train_pred0) "
   ]
  },
  {
   "cell_type": "markdown",
   "id": "989e24f4",
   "metadata": {},
   "source": [
    "- After evaluating the model with the Confusion Matrix, we can see the True Positive and True Negative are good and accepted.\n",
    "- The Confusion Matrix calculates the number of True positive, True negative, False positive and False n,egative predicted values. Based on that we can calculate the accuracy, precision, and recall\n",
    "- We predict the Y_train, it has better precision and recall than what we got when we predict Y_test which are 75% and 97% respectively\n",
    "- The f1_score is 85%\n"
   ]
  },
  {
   "cell_type": "markdown",
   "id": "1b90be44",
   "metadata": {},
   "source": [
    "# K-Nearest-Neighbor"
   ]
  },
  {
   "cell_type": "code",
   "execution_count": 215,
   "id": "4ec59e0d",
   "metadata": {},
   "outputs": [
    {
     "data": {
      "text/plain": [
       "KNeighborsClassifier()"
      ]
     },
     "execution_count": 215,
     "metadata": {},
     "output_type": "execute_result"
    }
   ],
   "source": [
    "from sklearn.neighbors import KNeighborsClassifier\n",
    "knn_cls = KNeighborsClassifier()\n",
    "knn_cls.fit(X_train_arr, Y_train_arr.ravel())"
   ]
  },
  {
   "cell_type": "code",
   "execution_count": 274,
   "id": "667b89bb",
   "metadata": {},
   "outputs": [
    {
     "data": {
      "text/plain": [
       "array([1, 1, 1, 1, 1, 1, 1, 1, 1, 1, 2, 1, 1, 1, 2, 1, 1, 1, 1, 2, 1, 1,\n",
       "       1, 1, 2, 1, 1, 1, 1, 1, 1, 1, 1, 2, 2, 1, 1, 1, 1, 1, 1, 1, 1, 2,\n",
       "       2, 1, 2, 1, 2, 2, 1, 1, 1, 1, 1, 1, 1, 1, 2, 1, 1], dtype=int64)"
      ]
     },
     "execution_count": 274,
     "metadata": {},
     "output_type": "execute_result"
    }
   ],
   "source": [
    "y_pred_KN = knn_cls.predict(X_test) \n",
    "y_pred_KN"
   ]
  },
  {
   "cell_type": "markdown",
   "id": "d34f8770",
   "metadata": {},
   "source": [
    "### Evaluation using Metrics"
   ]
  },
  {
   "cell_type": "code",
   "execution_count": 287,
   "id": "2ac0abe7",
   "metadata": {},
   "outputs": [
    {
     "name": "stdout",
     "output_type": "stream",
     "text": [
      "Accuracy: 0.6557377049180327\n",
      "Precision: 0.7346938775510204\n",
      "Recall: 0.8181818181818182\n"
     ]
    }
   ],
   "source": [
    "print(\"Accuracy:\",metrics.accuracy_score(Y_test, y_pred_KN))\n",
    "print(\"Precision:\",metrics.precision_score(Y_test, y_pred_KN))\n",
    "print(\"Recall:\",metrics.recall_score(Y_test, y_pred_KN))"
   ]
  },
  {
   "cell_type": "markdown",
   "id": "db263d6b",
   "metadata": {},
   "source": [
    "- K-Nearest-Neighbor model. \n",
    "- Its Accuracy is 65%, the Precision is 73%, and the Recall is 81%. Its performance is worse than the SGD model as can be seen the values are lower. \n"
   ]
  },
  {
   "cell_type": "markdown",
   "id": "b8915394",
   "metadata": {},
   "source": [
    "### Evaluation using cross-validation"
   ]
  },
  {
   "cell_type": "code",
   "execution_count": 276,
   "id": "0cdbd7b7",
   "metadata": {},
   "outputs": [
    {
     "data": {
      "text/plain": [
       "array([0.7195122 , 0.75308642, 0.7037037 ])"
      ]
     },
     "execution_count": 276,
     "metadata": {},
     "output_type": "execute_result"
    }
   ],
   "source": [
    "from sklearn.model_selection import cross_val_score\n",
    "scores = cross_val_score(knn_cls, X_train_arr, \n",
    "              Y_train_arr.ravel(), cv=3, scoring=\"accuracy\")\n",
    "scores"
   ]
  },
  {
   "cell_type": "markdown",
   "id": "2d940bef",
   "metadata": {},
   "source": [
    "### Evaluation using Confusion Matrix"
   ]
  },
  {
   "cell_type": "code",
   "execution_count": 277,
   "id": "55ade70c",
   "metadata": {
    "scrolled": true
   },
   "outputs": [
    {
     "data": {
      "text/plain": [
       "array([1, 1, 2, 1, 1, 1, 2, 1, 1, 1, 1, 1, 1, 1, 1, 1, 1, 1, 1, 1, 1, 1,\n",
       "       1, 2, 1, 1, 2, 1, 1, 1, 1, 1, 1, 1, 1, 1, 1, 1, 1, 1, 2, 1, 1, 1,\n",
       "       1, 1, 1, 1, 2, 1, 1, 1, 1, 1, 1, 1, 1, 1, 1, 1, 1, 2, 1, 2, 1, 2,\n",
       "       1, 1, 1, 1, 2, 2, 1, 1, 1, 1, 1, 1, 1, 1, 1, 2, 1, 1, 1, 1, 2, 1,\n",
       "       1, 1, 1, 1, 1, 1, 1, 2, 1, 1, 1, 1, 1, 1, 1, 1, 1, 2, 1, 1, 1, 1,\n",
       "       1, 1, 1, 1, 1, 1, 1, 1, 2, 2, 1, 2, 1, 1, 1, 1, 1, 1, 1, 1, 2, 1,\n",
       "       1, 1, 1, 1, 1, 1, 2, 1, 1, 1, 1, 1, 1, 1, 1, 2, 1, 1, 1, 1, 1, 1,\n",
       "       1, 1, 1, 1, 1, 1, 2, 1, 1, 1, 1, 1, 2, 1, 1, 1, 2, 1, 1, 1, 1, 2,\n",
       "       1, 1, 1, 1, 1, 2, 1, 1, 1, 2, 1, 1, 1, 1, 1, 1, 1, 1, 1, 1, 1, 1,\n",
       "       2, 1, 1, 1, 1, 1, 1, 1, 1, 1, 1, 1, 1, 1, 1, 1, 1, 1, 1, 1, 2, 2,\n",
       "       1, 1, 1, 2, 2, 1, 1, 1, 2, 2, 1, 1, 2, 1, 1, 2, 1, 1, 1, 1, 1, 2,\n",
       "       2, 2], dtype=int64)"
      ]
     },
     "execution_count": 277,
     "metadata": {},
     "output_type": "execute_result"
    }
   ],
   "source": [
    "# get predictions for each instance in training set\n",
    "from sklearn.model_selection import cross_val_predict\n",
    "y_train_pred = cross_val_predict(knn_cls, X_train_arr, Y_train_arr.ravel(),cv=3)\n",
    "y_train_pred"
   ]
  },
  {
   "cell_type": "code",
   "execution_count": 278,
   "id": "32ae72d5",
   "metadata": {},
   "outputs": [
    {
     "data": {
      "text/plain": [
       "array([[159,  21],\n",
       "       [ 46,  18]], dtype=int64)"
      ]
     },
     "execution_count": 278,
     "metadata": {},
     "output_type": "execute_result"
    }
   ],
   "source": [
    "from sklearn.metrics import confusion_matrix\n",
    "confusion_matrix(Y_train_arr.ravel(), y_train_pred)"
   ]
  },
  {
   "cell_type": "markdown",
   "id": "e47106f2",
   "metadata": {},
   "source": [
    "### Precision and Recall"
   ]
  },
  {
   "cell_type": "code",
   "execution_count": 279,
   "id": "c1ac132a",
   "metadata": {},
   "outputs": [
    {
     "name": "stdout",
     "output_type": "stream",
     "text": [
      "0.775609756097561\n",
      "0.8833333333333333\n"
     ]
    }
   ],
   "source": [
    "print(precision_score(Y_train_arr.ravel(), y_train_pred))\n",
    "print(recall_score(Y_train_arr.ravel(), y_train_pred))"
   ]
  },
  {
   "cell_type": "code",
   "execution_count": 280,
   "id": "dffa0a46",
   "metadata": {},
   "outputs": [
    {
     "data": {
      "text/plain": [
       "0.8259740259740259"
      ]
     },
     "execution_count": 280,
     "metadata": {},
     "output_type": "execute_result"
    }
   ],
   "source": [
    "from sklearn.metrics import f1_score\n",
    "f1_score(Y_train_arr.ravel(), y_train_pred) "
   ]
  },
  {
   "cell_type": "markdown",
   "id": "c410915e",
   "metadata": {},
   "source": [
    "- After evaluating the model with the Confusion Matrix, we can see the True Positive and True Negative are not as good as the SGD model.\n",
    "- We predict the Y_train, it has better precision and recall than what we got when we predict Y_test as well which are 77% and 88% respectively\n",
    "- The f1_score is 82%\n"
   ]
  },
  {
   "cell_type": "markdown",
   "id": "28d7bf79",
   "metadata": {},
   "source": [
    "# Logistic Regression"
   ]
  },
  {
   "cell_type": "code",
   "execution_count": 258,
   "id": "2c3b723c",
   "metadata": {},
   "outputs": [],
   "source": [
    "from sklearn.linear_model import LogisticRegression\n",
    "lr = LogisticRegression()"
   ]
  },
  {
   "cell_type": "code",
   "execution_count": 259,
   "id": "94a0ce4f",
   "metadata": {},
   "outputs": [
    {
     "data": {
      "text/plain": [
       "LogisticRegression()"
      ]
     },
     "execution_count": 259,
     "metadata": {},
     "output_type": "execute_result"
    }
   ],
   "source": [
    "lr.fit(X_train_arr, Y_train_arr.ravel())"
   ]
  },
  {
   "cell_type": "code",
   "execution_count": 260,
   "id": "208e1f85",
   "metadata": {},
   "outputs": [
    {
     "data": {
      "text/plain": [
       "array([1, 2, 1, 1, 1, 1, 1, 1, 1, 1, 2, 1, 1, 1, 2, 1, 1, 1, 1, 2, 1, 1,\n",
       "       1, 1, 1, 1, 1, 1, 1, 1, 1, 1, 1, 2, 2, 1, 1, 1, 2, 1, 1, 1, 1, 1,\n",
       "       1, 1, 1, 1, 2, 2, 1, 1, 1, 1, 1, 1, 1, 1, 2, 1, 1], dtype=int64)"
      ]
     },
     "execution_count": 260,
     "metadata": {},
     "output_type": "execute_result"
    }
   ],
   "source": [
    "y_pred_log = lr.predict(X_test)\n",
    "y_pred_log"
   ]
  },
  {
   "cell_type": "markdown",
   "id": "b7cac711",
   "metadata": {},
   "source": [
    "### Evaluation using Metrics"
   ]
  },
  {
   "cell_type": "code",
   "execution_count": 282,
   "id": "26eaf1b8",
   "metadata": {},
   "outputs": [
    {
     "name": "stdout",
     "output_type": "stream",
     "text": [
      "Accuracy: 0.7213114754098361\n",
      "Precision: 0.7647058823529411\n",
      "Recall: 0.8863636363636364\n"
     ]
    }
   ],
   "source": [
    "print(\"Accuracy:\",metrics.accuracy_score(Y_test, y_pred_log))\n",
    "print(\"Precision:\",metrics.precision_score(Y_test, y_pred_log))\n",
    "print(\"Recall:\",metrics.recall_score(Y_test, y_pred_log))"
   ]
  },
  {
   "cell_type": "markdown",
   "id": "767f9d6f",
   "metadata": {},
   "source": [
    "- Logistic Regression model. \n",
    "- Its Accuracy is 72%, the Precision is 76%, and the Recall is 88%. Its performance is worse than the SGD model as can be seen the values are lower. "
   ]
  },
  {
   "cell_type": "markdown",
   "id": "181825b1",
   "metadata": {},
   "source": [
    "### Evaluation using cross-validation"
   ]
  },
  {
   "cell_type": "code",
   "execution_count": 261,
   "id": "ff6b71a9",
   "metadata": {},
   "outputs": [
    {
     "data": {
      "text/plain": [
       "array([0.76829268, 0.7654321 , 0.7037037 ])"
      ]
     },
     "execution_count": 261,
     "metadata": {},
     "output_type": "execute_result"
    }
   ],
   "source": [
    "from sklearn.model_selection import cross_val_score\n",
    "scores = cross_val_score(lr, X_train_arr, \n",
    "              Y_train_arr.ravel(), cv=3, scoring=\"accuracy\")\n",
    "scores"
   ]
  },
  {
   "cell_type": "markdown",
   "id": "82ee86d5",
   "metadata": {},
   "source": [
    "### Evaluation using Confusion Matrix"
   ]
  },
  {
   "cell_type": "code",
   "execution_count": 263,
   "id": "cb313120",
   "metadata": {},
   "outputs": [
    {
     "data": {
      "text/plain": [
       "array([1, 1, 1, 1, 1, 1, 2, 1, 1, 1, 1, 1, 1, 1, 1, 1, 1, 1, 1, 1, 1, 1,\n",
       "       1, 2, 1, 1, 1, 1, 1, 1, 1, 2, 1, 1, 1, 1, 1, 1, 2, 1, 1, 1, 1, 1,\n",
       "       1, 1, 1, 1, 2, 1, 1, 1, 1, 1, 1, 1, 1, 1, 1, 1, 1, 2, 1, 1, 1, 1,\n",
       "       1, 1, 1, 1, 2, 1, 1, 1, 1, 1, 1, 1, 1, 1, 1, 1, 1, 1, 1, 1, 1, 1,\n",
       "       1, 1, 1, 1, 1, 1, 1, 1, 1, 1, 1, 1, 1, 1, 1, 1, 1, 2, 1, 1, 1, 1,\n",
       "       1, 1, 1, 1, 1, 1, 1, 1, 2, 1, 1, 1, 1, 1, 1, 1, 1, 1, 1, 1, 1, 1,\n",
       "       1, 1, 1, 1, 1, 1, 2, 1, 1, 1, 1, 1, 1, 1, 1, 1, 1, 1, 2, 1, 1, 1,\n",
       "       1, 1, 1, 1, 1, 1, 1, 1, 1, 1, 1, 1, 2, 1, 1, 1, 2, 1, 2, 1, 1, 2,\n",
       "       1, 1, 1, 1, 1, 1, 1, 1, 1, 1, 1, 1, 1, 2, 1, 1, 1, 1, 1, 1, 1, 1,\n",
       "       1, 1, 1, 1, 1, 1, 1, 1, 1, 1, 1, 1, 1, 1, 1, 1, 1, 1, 1, 1, 1, 1,\n",
       "       1, 1, 1, 1, 1, 1, 1, 1, 2, 1, 1, 2, 2, 1, 1, 2, 1, 1, 1, 1, 1, 2,\n",
       "       1, 2], dtype=int64)"
      ]
     },
     "execution_count": 263,
     "metadata": {},
     "output_type": "execute_result"
    }
   ],
   "source": [
    "# get predictions for each instance in training set\n",
    "from sklearn.model_selection import cross_val_predict\n",
    "y_train_pred1 = cross_val_predict(lr, X_train_arr, Y_train_arr.ravel(),cv=3)\n",
    "y_train_pred1"
   ]
  },
  {
   "cell_type": "code",
   "execution_count": 265,
   "id": "a9cf0f4b",
   "metadata": {},
   "outputs": [
    {
     "data": {
      "text/plain": [
       "array([[170,  10],\n",
       "       [ 52,  12]], dtype=int64)"
      ]
     },
     "execution_count": 265,
     "metadata": {},
     "output_type": "execute_result"
    }
   ],
   "source": [
    "from sklearn.metrics import confusion_matrix\n",
    "confusion_matrix(Y_train_arr.ravel(), y_train_pred1)"
   ]
  },
  {
   "cell_type": "markdown",
   "id": "4d41fbd0",
   "metadata": {},
   "source": [
    "### Precision and Recall"
   ]
  },
  {
   "cell_type": "code",
   "execution_count": 266,
   "id": "116f800c",
   "metadata": {},
   "outputs": [
    {
     "name": "stdout",
     "output_type": "stream",
     "text": [
      "0.7657657657657657\n",
      "0.9444444444444444\n"
     ]
    }
   ],
   "source": [
    "print(precision_score(Y_train_arr.ravel(), y_train_pred1))\n",
    "print(recall_score(Y_train_arr.ravel(), y_train_pred1))"
   ]
  },
  {
   "cell_type": "code",
   "execution_count": 267,
   "id": "bc0fa6a6",
   "metadata": {
    "scrolled": true
   },
   "outputs": [
    {
     "data": {
      "text/plain": [
       "0.845771144278607"
      ]
     },
     "execution_count": 267,
     "metadata": {},
     "output_type": "execute_result"
    }
   ],
   "source": [
    "from sklearn.metrics import f1_score\n",
    "f1_score(Y_train_arr.ravel(), y_train_pred1)"
   ]
  },
  {
   "cell_type": "markdown",
   "id": "a5686aca",
   "metadata": {},
   "source": [
    "- After evaluating the model with the Confusion Matrix, we can see the True Positive and True Negative are not as good as the SGD model but still better than the KNN.\n",
    "- We predict the Y_train, it has better precision and recall than what we got when we predict Y_test as well which are 76% and 94% respectively\n",
    "- The f1_score is 84%\n"
   ]
  },
  {
   "cell_type": "markdown",
   "id": "5f37c124",
   "metadata": {},
   "source": [
    "### Conclusion \n",
    "- As can be seen, the best model performed on the test set was the SGD model which acquired the highest values of accuracy, precision, and recall at 70%, 72%, and 95% respectively. \n"
   ]
  }
 ],
 "metadata": {
  "kernelspec": {
   "display_name": "Python 3",
   "language": "python",
   "name": "python3"
  },
  "language_info": {
   "codemirror_mode": {
    "name": "ipython",
    "version": 3
   },
   "file_extension": ".py",
   "mimetype": "text/x-python",
   "name": "python",
   "nbconvert_exporter": "python",
   "pygments_lexer": "ipython3",
   "version": "3.8.8"
  }
 },
 "nbformat": 4,
 "nbformat_minor": 5
}
